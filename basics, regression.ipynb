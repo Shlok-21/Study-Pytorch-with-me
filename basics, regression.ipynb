{
 "cells": [
  {
   "cell_type": "code",
   "execution_count": 1,
   "metadata": {},
   "outputs": [],
   "source": [
    "import torch\n",
    "import numpy as np\n"
   ]
  },
  {
   "cell_type": "code",
   "execution_count": 26,
   "metadata": {},
   "outputs": [
    {
     "name": "stdout",
     "output_type": "stream",
     "text": [
      "tensor([0., 0., 0., 0., 0., 0., 0., 0., 0., 0.], dtype=torch.float64)\n"
     ]
    }
   ],
   "source": [
    "emp = torch.zeros(10, dtype=torch.double)\n",
    "print(emp)"
   ]
  },
  {
   "cell_type": "code",
   "execution_count": 28,
   "metadata": {},
   "outputs": [
    {
     "name": "stdout",
     "output_type": "stream",
     "text": [
      "tensor([0.5021, 0.0769, 0.3110, 0.8896, 0.5774])\n",
      "tensor([0.4668, 0.4422, 0.6173, 0.3604, 0.2139])\n"
     ]
    }
   ],
   "source": [
    "a = torch.rand(5)\n",
    "b = torch.rand(5)\n",
    "print(a)\n",
    "print(b)\n"
   ]
  },
  {
   "cell_type": "code",
   "execution_count": 30,
   "metadata": {},
   "outputs": [
    {
     "name": "stdout",
     "output_type": "stream",
     "text": [
      "tensor([0.5021, 0.0769, 0.3110, 0.8896, 0.5774])\n",
      "tensor([0.4668, 0.4422, 0.6173, 0.3604, 0.2139])\n"
     ]
    },
    {
     "data": {
      "text/plain": [
       "tensor([0.9689, 0.5191, 0.9284, 1.2500, 0.7913])"
      ]
     },
     "execution_count": 30,
     "metadata": {},
     "output_type": "execute_result"
    }
   ],
   "source": [
    "print(a)\n",
    "print(b)\n",
    "torch.add(a,b)"
   ]
  },
  {
   "cell_type": "code",
   "execution_count": 31,
   "metadata": {},
   "outputs": [
    {
     "name": "stdout",
     "output_type": "stream",
     "text": [
      "tensor([0.5021, 0.0769, 0.3110, 0.8896, 0.5774])\n",
      "tensor([0.4668, 0.4422, 0.6173, 0.3604, 0.2139])\n"
     ]
    },
    {
     "data": {
      "text/plain": [
       "tensor([0.2344, 0.0340, 0.1920, 0.3206, 0.1235])"
      ]
     },
     "execution_count": 31,
     "metadata": {},
     "output_type": "execute_result"
    }
   ],
   "source": [
    "print(a)\n",
    "print(b)\n",
    "torch.mul(a,b)"
   ]
  },
  {
   "cell_type": "code",
   "execution_count": 33,
   "metadata": {},
   "outputs": [
    {
     "name": "stdout",
     "output_type": "stream",
     "text": [
      "tensor([[0.2672, 0.8568],\n",
      "        [0.5140, 0.8628]])\n",
      "tensor([[0.4978, 0.0597],\n",
      "        [0.4096, 0.3829]])\n"
     ]
    }
   ],
   "source": [
    "a = torch.rand(2,2)\n",
    "b = torch.rand(2,2)\n",
    "\n",
    "print(a)\n",
    "print(b)"
   ]
  },
  {
   "cell_type": "code",
   "execution_count": 34,
   "metadata": {},
   "outputs": [
    {
     "data": {
      "text/plain": [
       "tensor([[0.1330, 0.0511],\n",
       "        [0.2105, 0.3304]])"
      ]
     },
     "execution_count": 34,
     "metadata": {},
     "output_type": "execute_result"
    }
   ],
   "source": [
    "torch.mul(a,b)"
   ]
  },
  {
   "cell_type": "code",
   "execution_count": 35,
   "metadata": {},
   "outputs": [
    {
     "name": "stdout",
     "output_type": "stream",
     "text": [
      "tensor([[0.1264, 0.2980],\n",
      "        [0.9646, 0.9455]])\n",
      "tensor([[0.7507, 0.5010],\n",
      "        [0.2939, 0.1281]])\n",
      "tensor([[0.8771, 0.7991],\n",
      "        [1.2585, 1.0736]])\n"
     ]
    }
   ],
   "source": [
    "# we can also perform this inplace\n",
    "# every pytorch function that has an underscore will do an inplace operation\n",
    "a = torch.rand(2,2)\n",
    "b = torch.rand(2,2)\n",
    "\n",
    "print(a)\n",
    "print(b)\n",
    "\n",
    "print(b.add_(a))"
   ]
  },
  {
   "cell_type": "code",
   "execution_count": 42,
   "metadata": {},
   "outputs": [
    {
     "name": "stdout",
     "output_type": "stream",
     "text": [
      "tensor([[0.7268, 0.2625, 0.9404],\n",
      "        [0.1102, 0.3709, 0.4381],\n",
      "        [0.2687, 0.9047, 0.4142],\n",
      "        [0.0689, 0.5169, 0.5343],\n",
      "        [0.1478, 0.1934, 0.0951]])\n",
      "tensor([0.7268, 0.1102, 0.2687, 0.0689, 0.1478])\n",
      "tensor([0.1102, 0.3709, 0.4381])\n"
     ]
    }
   ],
   "source": [
    "a = torch.rand(5,3)\n",
    "print(a)\n",
    "print(a[:,0])\n",
    "print(a[1,:])"
   ]
  },
  {
   "cell_type": "code",
   "execution_count": 43,
   "metadata": {},
   "outputs": [
    {
     "data": {
      "text/plain": [
       "tensor([[0.7268, 0.2625, 0.9404],\n",
       "        [0.1102, 0.3709, 0.4381],\n",
       "        [0.2687, 0.9047, 0.4142],\n",
       "        [0.0689, 0.5169, 0.5343],\n",
       "        [0.1478, 0.1934, 0.0951]])"
      ]
     },
     "execution_count": 43,
     "metadata": {},
     "output_type": "execute_result"
    }
   ],
   "source": [
    "a"
   ]
  },
  {
   "cell_type": "code",
   "execution_count": 45,
   "metadata": {},
   "outputs": [
    {
     "data": {
      "text/plain": [
       "0.26865553855895996"
      ]
     },
     "execution_count": 45,
     "metadata": {},
     "output_type": "execute_result"
    }
   ],
   "source": [
    "a[2,0].item()"
   ]
  },
  {
   "cell_type": "code",
   "execution_count": 47,
   "metadata": {},
   "outputs": [
    {
     "name": "stdout",
     "output_type": "stream",
     "text": [
      "tensor([[0.8981, 0.0452, 0.1166, 0.9465],\n",
      "        [0.5517, 0.0660, 0.1327, 0.2971],\n",
      "        [0.8026, 0.6772, 0.7163, 0.6638]])\n"
     ]
    }
   ],
   "source": [
    "# reshaping \n",
    "\n",
    "a = torch.rand(3,4)\n",
    "print(a)"
   ]
  },
  {
   "cell_type": "code",
   "execution_count": 54,
   "metadata": {},
   "outputs": [
    {
     "data": {
      "text/plain": [
       "tensor([[0.8981, 0.0452, 0.1166, 0.9465, 0.5517, 0.0660],\n",
       "        [0.1327, 0.2971, 0.8026, 0.6772, 0.7163, 0.6638]])"
      ]
     },
     "execution_count": 54,
     "metadata": {},
     "output_type": "execute_result"
    }
   ],
   "source": [
    "a.view(-1,6)"
   ]
  },
  {
   "cell_type": "code",
   "execution_count": 56,
   "metadata": {},
   "outputs": [
    {
     "name": "stdout",
     "output_type": "stream",
     "text": [
      "tensor([0.7099, 0.4568, 0.6382, 0.4265, 0.4892], requires_grad=True)\n"
     ]
    }
   ],
   "source": [
    "x = torch.rand(5, requires_grad=True)\n",
    "print(x)"
   ]
  },
  {
   "cell_type": "code",
   "execution_count": 72,
   "metadata": {},
   "outputs": [
    {
     "name": "stdout",
     "output_type": "stream",
     "text": [
      "tensor([2.7099, 2.4568, 2.6382, 2.4265, 2.4892], grad_fn=<AddBackward0>)\n",
      "tensor([14.6871, 12.0715, 13.9202, 11.7758, 12.3921], grad_fn=<MulBackward0>)\n",
      "tensor(12.9693, grad_fn=<MeanBackward0>)\n",
      "tensor([10.8396,  9.8271, 10.5528,  9.7060,  9.9567])\n"
     ]
    }
   ],
   "source": [
    "y = x+2\n",
    "print(y)\n",
    "\n",
    "z = y*y*2\n",
    "print(z)\n",
    "\n",
    "z = z.mean()\n",
    "print(z)\n",
    "\n",
    "z.backward()\n",
    "print(x.grad)"
   ]
  },
  {
   "cell_type": "code",
   "execution_count": 80,
   "metadata": {},
   "outputs": [
    {
     "name": "stdout",
     "output_type": "stream",
     "text": [
      "tensor(1., grad_fn=<PowBackward0>)\n",
      "tensor(-2.)\n"
     ]
    }
   ],
   "source": [
    "# back propagation manually\n",
    "\n",
    "x = torch.tensor(1.0)\n",
    "y = torch.tensor(2.0)\n",
    "\n",
    "w = torch.tensor(1.0, requires_grad= True)\n",
    "\n",
    "#forward pass\n",
    "y_pred = w*x\n",
    "loss = (y_pred - y)**2\n",
    "\n",
    "print(loss)\n",
    "\n",
    "# backward pass\n",
    "loss.backward()\n",
    "print(w.grad)\n",
    "\n",
    "# update weights\n",
    "# next foward and back"
   ]
  },
  {
   "cell_type": "code",
   "execution_count": 99,
   "metadata": {},
   "outputs": [
    {
     "name": "stdout",
     "output_type": "stream",
     "text": [
      "Prediction before training : f(6) = 0.000\n",
      "epoch 1: w= 0.440, loss : 44.00000000\n",
      "epoch 3: w= 1.051, loss : 16.28662464\n",
      "epoch 5: w= 1.423, loss : 6.02850323\n",
      "epoch 7: w= 1.649, loss : 2.23145385\n",
      "epoch 9: w= 1.786, loss : 0.82597389\n",
      "epoch 11: w= 1.870, loss : 0.30573470\n",
      "epoch 13: w= 1.921, loss : 0.11316787\n",
      "epoch 15: w= 1.952, loss : 0.04188915\n",
      "epoch 17: w= 1.971, loss : 0.01550529\n",
      "epoch 19: w= 1.982, loss : 0.00573929\n",
      "epoch 21: w= 1.989, loss : 0.00212440\n",
      "epoch 23: w= 1.993, loss : 0.00078635\n",
      "epoch 25: w= 1.996, loss : 0.00029107\n",
      "epoch 27: w= 1.998, loss : 0.00010774\n",
      "epoch 29: w= 1.999, loss : 0.00003988\n",
      "epoch 31: w= 1.999, loss : 0.00001476\n",
      "epoch 33: w= 1.999, loss : 0.00000546\n",
      "epoch 35: w= 2.000, loss : 0.00000202\n",
      "epoch 37: w= 2.000, loss : 0.00000075\n",
      "epoch 39: w= 2.000, loss : 0.00000028\n",
      "epoch 41: w= 2.000, loss : 0.00000010\n",
      "epoch 43: w= 2.000, loss : 0.00000004\n",
      "epoch 45: w= 2.000, loss : 0.00000001\n",
      "epoch 47: w= 2.000, loss : 0.00000001\n",
      "epoch 49: w= 2.000, loss : 0.00000000\n"
     ]
    }
   ],
   "source": [
    "# manual calculations\n",
    "\n",
    "# f1 = w *x\n",
    "# f2 = 2*x\n",
    "\n",
    "X = np.array([1,2,3,4,5], dtype=float)\n",
    "Y = np.array([2,4,6,8,10], dtype=float)\n",
    "w = 0.0\n",
    "\n",
    "# forward pass\n",
    "def forward(X):\n",
    "    return w*X\n",
    "\n",
    "# calculate loss - MSE\n",
    "def loss(y,y_pred):\n",
    "    return ((y_pred - y) ** 2).mean()\n",
    "\n",
    "# gradient MSE\n",
    "# MSE = 1/N * (w*x - y)**2\n",
    "# dl/dw = 1/N 2x(w*x - y)\n",
    "\n",
    "def gradient(x,y,y_pred):\n",
    "    return np.dot(2*x, y_pred - y).mean()\n",
    "\n",
    "print(f'Prediction before training : f(6) = {forward(6):.3f}')\n",
    "\n",
    "learning_rate = 0.002\n",
    "n_iters = 50\n",
    "\n",
    "for epoch in range(n_iters):\n",
    "    y_pred = forward(X)\n",
    "    l = loss(Y, y_pred)\n",
    "    dw = gradient(X,Y, y_pred)\n",
    "    \n",
    "    w -= learning_rate * dw\n",
    "    if epoch %2 == 0:\n",
    "        print(f'epoch {epoch+1}: w= {w:.3f}, loss : {l:.8f}')    "
   ]
  },
  {
   "cell_type": "code",
   "execution_count": 5,
   "metadata": {},
   "outputs": [
    {
     "data": {
      "text/plain": [
       "tensor([ 6.2687e+01, -2.3764e+01, -2.5687e+01,  7.9365e+00, -1.5475e+01,\n",
       "         3.6094e+01, -4.0794e+01, -1.0823e+01,  2.1415e+01,  2.2799e+01,\n",
       "         3.7224e+01,  8.9567e+01,  4.1551e+01,  1.5018e+01, -6.1876e+01,\n",
       "         2.1404e+01, -8.9110e+01,  1.8679e+01,  1.4234e+01, -1.2670e+02,\n",
       "         1.2823e+01,  1.5695e+00, -3.9292e+01,  1.8950e+01,  8.4121e+01,\n",
       "         6.7974e+01,  3.0328e+00,  6.9943e+00, -4.2729e+01, -7.4268e+01,\n",
       "         2.5665e+01,  4.3362e+01,  6.3743e-01, -2.1273e+01, -4.9396e+01,\n",
       "        -1.6240e+01, -2.7917e+01,  7.1497e-02,  6.8466e+01,  1.5671e+01,\n",
       "         3.0485e+01, -3.4745e+01,  6.0252e+01, -1.9758e+01, -5.4750e+00,\n",
       "         4.5444e+00, -1.5787e+01, -4.9537e+01,  3.3266e+01,  8.9011e+00,\n",
       "         1.8640e+00,  1.4416e+01, -5.0219e+01,  1.1638e+02,  3.4709e+01,\n",
       "         3.5220e+01,  2.6180e+01,  9.1984e+00, -7.9423e+00, -8.7755e+01,\n",
       "         4.0805e+01, -9.5718e+00, -4.2683e+01, -3.8354e+01, -6.7932e+01,\n",
       "         5.5239e+01, -8.5184e+01, -8.8515e+01, -2.3392e+01,  6.0113e+01,\n",
       "         5.4903e+01, -6.7381e+01, -6.9480e+01, -3.3488e+01, -9.0419e+00,\n",
       "         4.7057e+01,  6.5062e+01,  1.2147e+01, -6.1605e+00, -3.8230e+01,\n",
       "        -6.3062e+01,  2.0093e+01, -1.1141e+01, -4.2458e+01,  5.5248e+01,\n",
       "         7.5837e+00, -1.9967e+01, -1.0432e+01, -3.2722e+01, -1.1554e+01,\n",
       "        -6.4080e+01,  8.3113e+01,  1.8165e+01, -2.1634e+01, -2.6362e+01,\n",
       "         7.8854e+01, -8.2466e+01, -4.7757e+01,  1.1684e+01, -3.0250e+01])"
      ]
     },
     "execution_count": 5,
     "metadata": {},
     "output_type": "execute_result"
    }
   ],
   "source": [
    "import torch\n",
    "import torch.nn as nn\n",
    "import numpy as np\n",
    "from sklearn import datasets\n",
    "import matplotlib.pyplot as plt\n",
    "# 0. prepare data\n",
    "# 1. model\n",
    "# 2. loss and optim\n",
    "# 3. training \n",
    "# # create data\n",
    "X,y = datasets.make_regression(100, 1, random_state=42, noise = 20)\n",
    "\n",
    "X = torch.from_numpy(X.astype(np.float32))\n",
    "y = torch.from_numpy(y.astype(np.float32))\n",
    "\n",
    "y"
   ]
  },
  {
   "cell_type": "code",
   "execution_count": 6,
   "metadata": {},
   "outputs": [
    {
     "data": {
      "text/plain": [
       "torch.Size([100])"
      ]
     },
     "execution_count": 6,
     "metadata": {},
     "output_type": "execute_result"
    }
   ],
   "source": [
    "y.shape"
   ]
  },
  {
   "cell_type": "code",
   "execution_count": 4,
   "metadata": {},
   "outputs": [
    {
     "data": {
      "text/plain": [
       "tensor([[ 6.2687e+01],\n",
       "        [-2.3764e+01],\n",
       "        [-2.5687e+01],\n",
       "        [ 7.9365e+00],\n",
       "        [-1.5475e+01],\n",
       "        [ 3.6094e+01],\n",
       "        [-4.0794e+01],\n",
       "        [-1.0823e+01],\n",
       "        [ 2.1415e+01],\n",
       "        [ 2.2799e+01],\n",
       "        [ 3.7224e+01],\n",
       "        [ 8.9567e+01],\n",
       "        [ 4.1551e+01],\n",
       "        [ 1.5018e+01],\n",
       "        [-6.1876e+01],\n",
       "        [ 2.1404e+01],\n",
       "        [-8.9110e+01],\n",
       "        [ 1.8679e+01],\n",
       "        [ 1.4234e+01],\n",
       "        [-1.2670e+02],\n",
       "        [ 1.2823e+01],\n",
       "        [ 1.5695e+00],\n",
       "        [-3.9292e+01],\n",
       "        [ 1.8950e+01],\n",
       "        [ 8.4121e+01],\n",
       "        [ 6.7974e+01],\n",
       "        [ 3.0328e+00],\n",
       "        [ 6.9943e+00],\n",
       "        [-4.2729e+01],\n",
       "        [-7.4268e+01],\n",
       "        [ 2.5665e+01],\n",
       "        [ 4.3362e+01],\n",
       "        [ 6.3743e-01],\n",
       "        [-2.1273e+01],\n",
       "        [-4.9396e+01],\n",
       "        [-1.6240e+01],\n",
       "        [-2.7917e+01],\n",
       "        [ 7.1497e-02],\n",
       "        [ 6.8466e+01],\n",
       "        [ 1.5671e+01],\n",
       "        [ 3.0485e+01],\n",
       "        [-3.4745e+01],\n",
       "        [ 6.0252e+01],\n",
       "        [-1.9758e+01],\n",
       "        [-5.4750e+00],\n",
       "        [ 4.5444e+00],\n",
       "        [-1.5787e+01],\n",
       "        [-4.9537e+01],\n",
       "        [ 3.3266e+01],\n",
       "        [ 8.9011e+00],\n",
       "        [ 1.8640e+00],\n",
       "        [ 1.4416e+01],\n",
       "        [-5.0219e+01],\n",
       "        [ 1.1638e+02],\n",
       "        [ 3.4709e+01],\n",
       "        [ 3.5220e+01],\n",
       "        [ 2.6180e+01],\n",
       "        [ 9.1984e+00],\n",
       "        [-7.9423e+00],\n",
       "        [-8.7755e+01],\n",
       "        [ 4.0805e+01],\n",
       "        [-9.5718e+00],\n",
       "        [-4.2683e+01],\n",
       "        [-3.8354e+01],\n",
       "        [-6.7932e+01],\n",
       "        [ 5.5239e+01],\n",
       "        [-8.5184e+01],\n",
       "        [-8.8515e+01],\n",
       "        [-2.3392e+01],\n",
       "        [ 6.0113e+01],\n",
       "        [ 5.4903e+01],\n",
       "        [-6.7381e+01],\n",
       "        [-6.9480e+01],\n",
       "        [-3.3488e+01],\n",
       "        [-9.0419e+00],\n",
       "        [ 4.7057e+01],\n",
       "        [ 6.5062e+01],\n",
       "        [ 1.2147e+01],\n",
       "        [-6.1605e+00],\n",
       "        [-3.8230e+01],\n",
       "        [-6.3062e+01],\n",
       "        [ 2.0093e+01],\n",
       "        [-1.1141e+01],\n",
       "        [-4.2458e+01],\n",
       "        [ 5.5248e+01],\n",
       "        [ 7.5837e+00],\n",
       "        [-1.9967e+01],\n",
       "        [-1.0432e+01],\n",
       "        [-3.2722e+01],\n",
       "        [-1.1554e+01],\n",
       "        [-6.4080e+01],\n",
       "        [ 8.3113e+01],\n",
       "        [ 1.8165e+01],\n",
       "        [-2.1634e+01],\n",
       "        [-2.6362e+01],\n",
       "        [ 7.8854e+01],\n",
       "        [-8.2466e+01],\n",
       "        [-4.7757e+01],\n",
       "        [ 1.1684e+01],\n",
       "        [-3.0250e+01]])"
      ]
     },
     "execution_count": 4,
     "metadata": {},
     "output_type": "execute_result"
    }
   ],
   "source": [
    "y = y.view(y.shape[0],1)\n",
    "y"
   ]
  },
  {
   "cell_type": "code",
   "execution_count": 14,
   "metadata": {},
   "outputs": [
    {
     "data": {
      "text/plain": [
       "torch.Size([100])"
      ]
     },
     "execution_count": 14,
     "metadata": {},
     "output_type": "execute_result"
    }
   ],
   "source": [
    "y.shape"
   ]
  },
  {
   "cell_type": "code",
   "execution_count": 10,
   "metadata": {},
   "outputs": [],
   "source": [
    "n_samples, n_features = X.shape\n",
    "input_size = n_samples\n",
    "output_size = 1"
   ]
  },
  {
   "cell_type": "code",
   "execution_count": 29,
   "metadata": {},
   "outputs": [
    {
     "name": "stdout",
     "output_type": "stream",
     "text": [
      "torch.Size([100, 1])\n",
      "torch.Size([100, 1])\n",
      "epoch : 1.000, loss : 2174.6143\n",
      "epoch : 101.000, loss : 1648.8665\n",
      "epoch : 201.000, loss : 1273.1729\n",
      "epoch : 301.000, loss : 1004.1741\n",
      "epoch : 401.000, loss : 811.2104\n",
      "epoch : 501.000, loss : 672.5488\n",
      "epoch : 601.000, loss : 572.7465\n",
      "epoch : 701.000, loss : 500.8051\n",
      "epoch : 801.000, loss : 448.8744\n",
      "epoch : 901.000, loss : 411.3400\n"
     ]
    },
    {
     "data": {
      "image/png": "[encoded data removed]",
      "text/plain": [
       "<Figure size 640x480 with 1 Axes>"
      ]
     },
     "metadata": {},
     "output_type": "display_data"
    }
   ],
   "source": [
    "# linear regression\n",
    "\n",
    "import torch\n",
    "import matplotlib.pyplot as plt\n",
    "import seaborn as sns\n",
    "import torch.nn as nn\n",
    "import numpy as np\n",
    "from sklearn import datasets\n",
    "# prepare data\n",
    "X,y = datasets.make_regression(100,1, noise = 20, random_state= 42)\n",
    "\n",
    "X = torch.from_numpy(X.astype(np.float32))\n",
    "y = torch.from_numpy(y.astype(np.float32))\n",
    "\n",
    "print(X.shape)\n",
    "y = y.view(y.shape[0], 1)\n",
    "print(y.shape)\n",
    "\n",
    "\n",
    "# model\n",
    "n_samples, n_features = X.shape\n",
    "\n",
    "input_size = n_features\n",
    "output_size = 1\n",
    "\n",
    "model = nn.Linear(input_size, output_size)\n",
    "    \n",
    "# loss and optim\n",
    "learning_rate = 0.001\n",
    "criterion = nn.MSELoss()\n",
    "optim = torch.optim.SGD(model.parameters(), lr = learning_rate)\n",
    "\n",
    "\n",
    "# training loop\n",
    "\n",
    "epochs = 1000\n",
    "for epoch in range(epochs):\n",
    "    # forward pass and loss\n",
    "    y_pred = model(X)\n",
    "    loss = criterion(y_pred , y)\n",
    "    \n",
    "    # ackward pass \n",
    "    loss.backward() #back\n",
    "    optim.step() # update\n",
    "    optim.zero_grad() # empty gradients\n",
    "    \n",
    "    if epoch%100 == 0:\n",
    "        print(f'epoch : {epoch+1:.3f}, loss : {loss.item():.4f}')\n",
    "    \n",
    "preds = model(X).detach().numpy()\n",
    "plt.plot(X,y, 'ro')\n",
    "plt.plot(X, preds, 'b')\n",
    "plt.show()"
   ]
  }
 ],
 "metadata": {
  "kernelspec": {
   "display_name": "Python 3",
   "language": "python",
   "name": "python3"
  },
  "language_info": {
   "codemirror_mode": {
    "name": "ipython",
    "version": 3
   },
   "file_extension": ".py",
   "mimetype": "text/x-python",
   "name": "python",
   "nbconvert_exporter": "python",
   "pygments_lexer": "ipython3",
   "version": "3.11.9"
  }
 },
 "nbformat": 4,
 "nbformat_minor": 2
}
