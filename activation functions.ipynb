{
 "cells": [
  {
   "cell_type": "markdown",
   "metadata": {},
   "source": [
    "##### Imports"
   ]
  },
  {
   "cell_type": "code",
   "execution_count": 1,
   "metadata": {},
   "outputs": [],
   "source": [
    "import torch\n",
    "import torch.nn as nn\n",
    "import numpy as np\n"
   ]
  },
  {
   "cell_type": "markdown",
   "metadata": {},
   "source": [
    "##### softmax with numpy"
   ]
  },
  {
   "cell_type": "code",
   "execution_count": 9,
   "metadata": {},
   "outputs": [
    {
     "name": "stdout",
     "output_type": "stream",
     "text": [
      "Softmax : [0.65900114 0.24243297 0.09856589]\n"
     ]
    }
   ],
   "source": [
    "def softmax(x):\n",
    "    return np.exp(x)/np.sum(np.exp(x), axis = 0)\n",
    "\n",
    "x = np.array([2.0, 1.0, 0.1])\n",
    "outputs = softmax(x)\n",
    "print(f'Softmax : {outputs}')"
   ]
  },
  {
   "cell_type": "markdown",
   "metadata": {},
   "source": [
    "##### softmax with inbuilt torch.softmax"
   ]
  },
  {
   "cell_type": "code",
   "execution_count": 8,
   "metadata": {},
   "outputs": [
    {
     "name": "stdout",
     "output_type": "stream",
     "text": [
      "Softmax : tensor([0.2424, 0.6590, 0.0986])\n"
     ]
    }
   ],
   "source": [
    "x = torch.tensor([1.0, 2.0, 0.1])\n",
    "outputs = torch.softmax(x, dim=0)\n",
    "print(f'Softmax : {outputs}')"
   ]
  },
  {
   "cell_type": "markdown",
   "metadata": {},
   "source": [
    "##### When we use softmax we generally are performing multiclass classification, here we use crossentropyloss"
   ]
  },
  {
   "cell_type": "markdown",
   "metadata": {},
   "source": [
    "##### Crossentropy loss with numpy"
   ]
  },
  {
   "cell_type": "code",
   "execution_count": 16,
   "metadata": {},
   "outputs": [
    {
     "name": "stdout",
     "output_type": "stream",
     "text": [
      "0.35667494393873245\n",
      "2.3025850929940455\n"
     ]
    }
   ],
   "source": [
    "# Crossentropy with numpy\n",
    "\n",
    "def crossentropyloss(actual, predicted):\n",
    "    return -np.sum(actual * np.log(predicted))\n",
    "\n",
    "y = np.array([1,0,0])\n",
    "\n",
    "y_pred_good = np.array([0.7, 0.2, 0.1])\n",
    "y_pred_bad = np.array([0.1, 0.3, 0.6])\n",
    "\n",
    "good_loss = crossentropyloss(y, y_pred_good)\n",
    "bad_loss = crossentropyloss(y, y_pred_bad)\n",
    "\n",
    "print(good_loss)\n",
    "print(bad_loss)\n"
   ]
  },
  {
   "cell_type": "markdown",
   "metadata": {},
   "source": [
    "##### Crossentropyloss with torch"
   ]
  },
  {
   "cell_type": "markdown",
   "metadata": {},
   "source": [
    "** DO NOT APPLY SOFTMAX IN THE LAST LAYER WHEN USING CROSSENTROPYLOSS **"
   ]
  },
  {
   "cell_type": "code",
   "execution_count": 32,
   "metadata": {},
   "outputs": [
    {
     "name": "stdout",
     "output_type": "stream",
     "text": [
      "good loss : 0.4170299470424652\n",
      "bad loss : 5.009174346923828\n",
      "Prediction of good classification : tensor([0])\n",
      "Prediction of bad classification : tensor([1])\n"
     ]
    }
   ],
   "source": [
    "loss = nn.CrossEntropyLoss()\n",
    "\n",
    "y = torch.tensor([0])\n",
    "\n",
    "y_pred_good = torch.tensor([[2.0, 1.0, 0.1]])   # y = 0 and this tensor is predicting 0\n",
    "y_pred_bad = torch.tensor([[2.0, 7.0, 1.0]])    # y = 0 but this tensor is predicting 1\n",
    "\n",
    "good_loss = loss(y_pred_good, y)\n",
    "bad_loss = loss(y_pred_bad, y)\n",
    "\n",
    "print(f'good loss : {good_loss.item()}')\n",
    "print(f'bad loss : {bad_loss.item()}')\n",
    "\n",
    "# To get the actual predictions from y_pred_good and y_pred_bad \n",
    "\n",
    "_, pred1 = torch.max(y_pred_good, dim = 1)\n",
    "_, pred2 = torch.max(y_pred_bad, dim = 1)\n",
    "\n",
    "\n",
    "print(f'Prediction of good classification : {pred1}')\n",
    "print(f'Prediction of bad classification : {pred2}')"
   ]
  },
  {
   "cell_type": "markdown",
   "metadata": {},
   "source": [
    "##### Lets increase the number of samples of y"
   ]
  },
  {
   "cell_type": "code",
   "execution_count": 35,
   "metadata": {},
   "outputs": [
    {
     "name": "stdout",
     "output_type": "stream",
     "text": [
      "good loss : 0.5221561789512634\n",
      "bad loss : 4.843975067138672\n",
      "Actual Predictions : tensor([0, 2, 1])\n",
      "Prediction of good classification : tensor([0, 2, 1])\n",
      "Prediction of bad classification : tensor([1, 0, 2])\n"
     ]
    }
   ],
   "source": [
    "loss = nn.CrossEntropyLoss()\n",
    "\n",
    "y = torch.tensor([0,2,1])\n",
    "\n",
    "y_pred_good = torch.tensor([[2.0, 1.0, 0.1],[1.1, 1.0, 2.1],[0.2, 1.0, 0.1]])   # y = 0 and this tensor is predicting 0\n",
    "y_pred_bad = torch.tensor([[2.0, 7.0, 1.0],[2.0, 1.0, 0.1],[3.1, 1.2, 8.4]])    # y = 0 but this tensor is predicting 1\n",
    "\n",
    "good_loss = loss(y_pred_good, y)\n",
    "bad_loss = loss(y_pred_bad, y)\n",
    "\n",
    "print(f'good loss : {good_loss.item()}')\n",
    "print(f'bad loss : {bad_loss.item()}')\n",
    "\n",
    "# To get the actual predictions from y_pred_good and y_pred_bad \n",
    "print(f'Actual Predictions : {y}')\n",
    "_, pred1 = torch.max(y_pred_good, dim = 1)\n",
    "_, pred2 = torch.max(y_pred_bad, dim = 1)\n",
    "\n",
    "\n",
    "print(f'Prediction of good classification : {pred1}')\n",
    "print(f'Prediction of bad classification : {pred2}')"
   ]
  },
  {
   "cell_type": "code",
   "execution_count": null,
   "metadata": {},
   "outputs": [],
   "source": []
  }
 ],
 "metadata": {
  "kernelspec": {
   "display_name": "Python 3",
   "language": "python",
   "name": "python3"
  },
  "language_info": {
   "codemirror_mode": {
    "name": "ipython",
    "version": 3
   },
   "file_extension": ".py",
   "mimetype": "text/x-python",
   "name": "python",
   "nbconvert_exporter": "python",
   "pygments_lexer": "ipython3",
   "version": "3.11.9"
  }
 },
 "nbformat": 4,
 "nbformat_minor": 2
}
