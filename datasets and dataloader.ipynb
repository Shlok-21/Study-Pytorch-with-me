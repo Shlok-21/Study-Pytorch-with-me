{
 "cells": [
  {
   "cell_type": "markdown",
   "metadata": {},
   "source": [
    "#### 1. Import libraries"
   ]
  },
  {
   "cell_type": "code",
   "execution_count": 57,
   "metadata": {},
   "outputs": [],
   "source": [
    "import torch\n",
    "import numpy as np\n",
    "import math\n",
    "import torch.nn as nn\n",
    "from torch.utils.data import Dataset, DataLoader\n",
    "from sklearn import datasets"
   ]
  },
  {
   "cell_type": "markdown",
   "metadata": {},
   "source": [
    "#### 2. Create the dataset class"
   ]
  },
  {
   "cell_type": "code",
   "execution_count": 37,
   "metadata": {},
   "outputs": [],
   "source": [
    "class winedata(Dataset):\n",
    "    def __init__(self):\n",
    "        # load dataset\n",
    "        self.data = datasets.load_wine()\n",
    "        self.X =  torch.from_numpy((self.data.data).astype(np.float32))\n",
    "        self.y =  torch.from_numpy((self.data.target).astype(np.float32))\n",
    "        self.n_samples = self.X.shape[0]\n",
    "                \n",
    "    def __getitem__(self, index):\n",
    "        # get the row of the dataset accoding to the index\n",
    "        # dataset[0]\n",
    "        return self.X[index], self.y[index]        \n",
    "    \n",
    "    def __len__(self):\n",
    "        # return the len of dataset\n",
    "        return self.n_samples\n",
    "    \n",
    "# create instance of the dataset\n",
    "dataset = winedata()"
   ]
  },
  {
   "cell_type": "code",
   "execution_count": 38,
   "metadata": {},
   "outputs": [
    {
     "name": "stdout",
     "output_type": "stream",
     "text": [
      "178\n",
      "(tensor([1.3200e+01, 1.7800e+00, 2.1400e+00, 1.1200e+01, 1.0000e+02, 2.6500e+00,\n",
      "        2.7600e+00, 2.6000e-01, 1.2800e+00, 4.3800e+00, 1.0500e+00, 3.4000e+00,\n",
      "        1.0500e+03]), tensor(0.))\n"
     ]
    }
   ],
   "source": [
    "# check ith item and the len\n",
    "print(dataset.__len__())\n",
    "print(dataset.__getitem__(1))"
   ]
  },
  {
   "cell_type": "markdown",
   "metadata": {},
   "source": [
    "#### 3. Dataloader"
   ]
  },
  {
   "cell_type": "markdown",
   "metadata": {},
   "source": [
    "##### 3.1 How a batch is created"
   ]
  },
  {
   "cell_type": "code",
   "execution_count": 56,
   "metadata": {},
   "outputs": [
    {
     "name": "stdout",
     "output_type": "stream",
     "text": [
      "tensor([[1.1650e+01, 1.6700e+00, 2.6200e+00, 2.6000e+01, 8.8000e+01, 1.9200e+00,\n",
      "         1.6100e+00, 4.0000e-01, 1.3400e+00, 2.6000e+00, 1.3600e+00, 3.2100e+00,\n",
      "         5.6200e+02],\n",
      "        [1.1840e+01, 2.8900e+00, 2.2300e+00, 1.8000e+01, 1.1200e+02, 1.7200e+00,\n",
      "         1.3200e+00, 4.3000e-01, 9.5000e-01, 2.6500e+00, 9.6000e-01, 2.5200e+00,\n",
      "         5.0000e+02],\n",
      "        [1.4060e+01, 1.6300e+00, 2.2800e+00, 1.6000e+01, 1.2600e+02, 3.0000e+00,\n",
      "         3.1700e+00, 2.4000e-01, 2.1000e+00, 5.6500e+00, 1.0900e+00, 3.7100e+00,\n",
      "         7.8000e+02],\n",
      "        [1.1450e+01, 2.4000e+00, 2.4200e+00, 2.0000e+01, 9.6000e+01, 2.9000e+00,\n",
      "         2.7900e+00, 3.2000e-01, 1.8300e+00, 3.2500e+00, 8.0000e-01, 3.3900e+00,\n",
      "         6.2500e+02]])\n",
      "tensor([1., 1., 0., 1.])\n"
     ]
    }
   ],
   "source": [
    "dataloader = DataLoader(dataset = dataset, batch_size = 4, shuffle = True, num_workers = 0)\n",
    "# dataloader is now an iterable object\n",
    "\n",
    "dataiter = iter(dataloader)\n",
    "feature, label = next(dataiter)\n",
    "print(feature)\n",
    "print(label)"
   ]
  },
  {
   "cell_type": "markdown",
   "metadata": {},
   "source": [
    "##### 3.2 Dummy training loop"
   ]
  },
  {
   "cell_type": "code",
   "execution_count": 61,
   "metadata": {},
   "outputs": [
    {
     "name": "stdout",
     "output_type": "stream",
     "text": [
      "178 45\n"
     ]
    }
   ],
   "source": [
    "# hyperparameters\n",
    "epochs = 2\n",
    "batch_size = 4\n",
    "num_workers = 0\n",
    "total_samples = len(dataset)\n",
    "n_iter = math.ceil(total_samples/batch_size)\n",
    "\n",
    "print(total_samples, n_iter)"
   ]
  },
  {
   "cell_type": "code",
   "execution_count": 64,
   "metadata": {},
   "outputs": [
    {
     "name": "stdout",
     "output_type": "stream",
     "text": [
      "epoch : 1/2, steps : 5/45, inputs : torch.Size([4, 13])\n",
      "epoch : 1/2, steps : 10/45, inputs : torch.Size([4, 13])\n",
      "epoch : 1/2, steps : 15/45, inputs : torch.Size([4, 13])\n",
      "epoch : 1/2, steps : 20/45, inputs : torch.Size([4, 13])\n",
      "epoch : 1/2, steps : 25/45, inputs : torch.Size([4, 13])\n",
      "epoch : 1/2, steps : 30/45, inputs : torch.Size([4, 13])\n",
      "epoch : 1/2, steps : 35/45, inputs : torch.Size([4, 13])\n",
      "epoch : 1/2, steps : 40/45, inputs : torch.Size([4, 13])\n",
      "epoch : 1/2, steps : 45/45, inputs : torch.Size([2, 13])\n",
      "epoch : 2/2, steps : 5/45, inputs : torch.Size([4, 13])\n",
      "epoch : 2/2, steps : 10/45, inputs : torch.Size([4, 13])\n",
      "epoch : 2/2, steps : 15/45, inputs : torch.Size([4, 13])\n",
      "epoch : 2/2, steps : 20/45, inputs : torch.Size([4, 13])\n",
      "epoch : 2/2, steps : 25/45, inputs : torch.Size([4, 13])\n",
      "epoch : 2/2, steps : 30/45, inputs : torch.Size([4, 13])\n",
      "epoch : 2/2, steps : 35/45, inputs : torch.Size([4, 13])\n",
      "epoch : 2/2, steps : 40/45, inputs : torch.Size([4, 13])\n",
      "epoch : 2/2, steps : 45/45, inputs : torch.Size([2, 13])\n"
     ]
    }
   ],
   "source": [
    "# training loop\n",
    "\n",
    "for epoch in range(epochs):\n",
    "    for i, (inputs, labels) in enumerate(dataloader):\n",
    "        \n",
    "        # forward pass , loss , backward pass goes here\n",
    "        \n",
    "        if (i+1) % 5 == 0:\n",
    "            print(f'epoch : {epoch+1}/{epochs}, steps : {i+1}/{n_iter}, inputs : {inputs.shape}')\n",
    "        "
   ]
  }
 ],
 "metadata": {
  "kernelspec": {
   "display_name": "Python 3",
   "language": "python",
   "name": "python3"
  },
  "language_info": {
   "codemirror_mode": {
    "name": "ipython",
    "version": 3
   },
   "file_extension": ".py",
   "mimetype": "text/x-python",
   "name": "python",
   "nbconvert_exporter": "python",
   "pygments_lexer": "ipython3",
   "version": "3.11.9"
  }
 },
 "nbformat": 4,
 "nbformat_minor": 2
}
