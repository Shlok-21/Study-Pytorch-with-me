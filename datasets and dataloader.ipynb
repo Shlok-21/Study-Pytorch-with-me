{
 "cells": [
  {
   "cell_type": "markdown",
   "metadata": {},
   "source": [
    "#### 1. Import libraries"
   ]
  },
  {
   "cell_type": "code",
   "execution_count": 29,
   "metadata": {},
   "outputs": [],
   "source": [
    "import torch, torchvision\n",
    "import numpy as np\n",
    "import math\n",
    "import torch.nn as nn\n",
    "from torch.utils.data import Dataset, DataLoader\n",
    "from sklearn import datasets"
   ]
  },
  {
   "cell_type": "markdown",
   "metadata": {},
   "source": [
    "#### 2. Create the dataset class"
   ]
  },
  {
   "cell_type": "code",
   "execution_count": 4,
   "metadata": {},
   "outputs": [],
   "source": [
    "class winedata(Dataset):\n",
    "    def __init__(self):\n",
    "        # load dataset\n",
    "        self.data = datasets.load_wine()\n",
    "        self.X =  torch.from_numpy((self.data.data).astype(np.float32))\n",
    "        self.y =  torch.from_numpy((self.data.target).astype(np.float32))\n",
    "        self.n_samples = self.X.shape[0]\n",
    "                \n",
    "    def __getitem__(self, index):\n",
    "        # get the row of the dataset accoding to the index\n",
    "        # dataset[0]\n",
    "        return self.X[index], self.y[index]        \n",
    "    \n",
    "    def __len__(self):\n",
    "        # return the len of dataset\n",
    "        return self.n_samples\n",
    "    \n",
    "# create instance of the dataset\n",
    "dataset = winedata()"
   ]
  },
  {
   "cell_type": "code",
   "execution_count": 5,
   "metadata": {},
   "outputs": [
    {
     "name": "stdout",
     "output_type": "stream",
     "text": [
      "178\n",
      "(tensor([1.3200e+01, 1.7800e+00, 2.1400e+00, 1.1200e+01, 1.0000e+02, 2.6500e+00,\n",
      "        2.7600e+00, 2.6000e-01, 1.2800e+00, 4.3800e+00, 1.0500e+00, 3.4000e+00,\n",
      "        1.0500e+03]), tensor(0.))\n"
     ]
    }
   ],
   "source": [
    "# check ith item and the len\n",
    "print(dataset.__len__())\n",
    "print(dataset.__getitem__(1))"
   ]
  },
  {
   "cell_type": "markdown",
   "metadata": {},
   "source": [
    "#### 3. Dataloader"
   ]
  },
  {
   "cell_type": "markdown",
   "metadata": {},
   "source": [
    "##### 3.1 How a batch is created"
   ]
  },
  {
   "cell_type": "code",
   "execution_count": 6,
   "metadata": {},
   "outputs": [
    {
     "name": "stdout",
     "output_type": "stream",
     "text": [
      "tensor([[1.2720e+01, 1.7500e+00, 2.2800e+00, 2.2500e+01, 8.4000e+01, 1.3800e+00,\n",
      "         1.7600e+00, 4.8000e-01, 1.6300e+00, 3.3000e+00, 8.8000e-01, 2.4200e+00,\n",
      "         4.8800e+02],\n",
      "        [1.3300e+01, 1.7200e+00, 2.1400e+00, 1.7000e+01, 9.4000e+01, 2.4000e+00,\n",
      "         2.1900e+00, 2.7000e-01, 1.3500e+00, 3.9500e+00, 1.0200e+00, 2.7700e+00,\n",
      "         1.2850e+03],\n",
      "        [1.3050e+01, 1.6500e+00, 2.5500e+00, 1.8000e+01, 9.8000e+01, 2.4500e+00,\n",
      "         2.4300e+00, 2.9000e-01, 1.4400e+00, 4.2500e+00, 1.1200e+00, 2.5100e+00,\n",
      "         1.1050e+03],\n",
      "        [1.2070e+01, 2.1600e+00, 2.1700e+00, 2.1000e+01, 8.5000e+01, 2.6000e+00,\n",
      "         2.6500e+00, 3.7000e-01, 1.3500e+00, 2.7600e+00, 8.6000e-01, 3.2800e+00,\n",
      "         3.7800e+02]])\n",
      "tensor([1., 0., 0., 1.])\n"
     ]
    }
   ],
   "source": [
    "dataloader = DataLoader(dataset = dataset, batch_size = 4, shuffle = True, num_workers = 0)\n",
    "# dataloader is now an iterable object\n",
    "\n",
    "dataiter = iter(dataloader)\n",
    "feature, label = next(dataiter)\n",
    "print(feature)\n",
    "print(label)"
   ]
  },
  {
   "cell_type": "markdown",
   "metadata": {},
   "source": [
    "##### 3.2 Dummy training loop"
   ]
  },
  {
   "cell_type": "code",
   "execution_count": 61,
   "metadata": {},
   "outputs": [
    {
     "name": "stdout",
     "output_type": "stream",
     "text": [
      "178 45\n"
     ]
    }
   ],
   "source": [
    "# hyperparameters\n",
    "epochs = 2\n",
    "batch_size = 4\n",
    "num_workers = 0\n",
    "total_samples = len(dataset)\n",
    "n_iter = math.ceil(total_samples/batch_size)\n",
    "\n",
    "print(total_samples, n_iter)"
   ]
  },
  {
   "cell_type": "code",
   "execution_count": 64,
   "metadata": {},
   "outputs": [
    {
     "name": "stdout",
     "output_type": "stream",
     "text": [
      "epoch : 1/2, steps : 5/45, inputs : torch.Size([4, 13])\n",
      "epoch : 1/2, steps : 10/45, inputs : torch.Size([4, 13])\n",
      "epoch : 1/2, steps : 15/45, inputs : torch.Size([4, 13])\n",
      "epoch : 1/2, steps : 20/45, inputs : torch.Size([4, 13])\n",
      "epoch : 1/2, steps : 25/45, inputs : torch.Size([4, 13])\n",
      "epoch : 1/2, steps : 30/45, inputs : torch.Size([4, 13])\n",
      "epoch : 1/2, steps : 35/45, inputs : torch.Size([4, 13])\n",
      "epoch : 1/2, steps : 40/45, inputs : torch.Size([4, 13])\n",
      "epoch : 1/2, steps : 45/45, inputs : torch.Size([2, 13])\n",
      "epoch : 2/2, steps : 5/45, inputs : torch.Size([4, 13])\n",
      "epoch : 2/2, steps : 10/45, inputs : torch.Size([4, 13])\n",
      "epoch : 2/2, steps : 15/45, inputs : torch.Size([4, 13])\n",
      "epoch : 2/2, steps : 20/45, inputs : torch.Size([4, 13])\n",
      "epoch : 2/2, steps : 25/45, inputs : torch.Size([4, 13])\n",
      "epoch : 2/2, steps : 30/45, inputs : torch.Size([4, 13])\n",
      "epoch : 2/2, steps : 35/45, inputs : torch.Size([4, 13])\n",
      "epoch : 2/2, steps : 40/45, inputs : torch.Size([4, 13])\n",
      "epoch : 2/2, steps : 45/45, inputs : torch.Size([2, 13])\n"
     ]
    }
   ],
   "source": [
    "# training loop\n",
    "\n",
    "for epoch in range(epochs):\n",
    "    for i, (inputs, labels) in enumerate(dataloader):\n",
    "        \n",
    "        # forward pass , loss , backward pass goes here\n",
    "        \n",
    "        if (i+1) % 5 == 0:\n",
    "            print(f'epoch : {epoch+1}/{epochs}, steps : {i+1}/{n_iter}, inputs : {inputs.shape}')\n",
    "        "
   ]
  },
  {
   "cell_type": "markdown",
   "metadata": {},
   "source": [
    "#### 4. DataTransforms"
   ]
  },
  {
   "cell_type": "code",
   "execution_count": 7,
   "metadata": {},
   "outputs": [
    {
     "name": "stdout",
     "output_type": "stream",
     "text": [
      "type of X : <class 'numpy.ndarray'>\n",
      "type of y : <class 'numpy.ndarray'>\n"
     ]
    },
    {
     "data": {
      "text/plain": [
       "(array([1.423e+01, 1.710e+00, 2.430e+00, 1.560e+01, 1.270e+02, 2.800e+00,\n",
       "        3.060e+00, 2.800e-01, 2.290e+00, 5.640e+00, 1.040e+00, 3.920e+00,\n",
       "        1.065e+03]),\n",
       " array(0))"
      ]
     },
     "execution_count": 7,
     "metadata": {},
     "output_type": "execute_result"
    }
   ],
   "source": [
    "class winedata(Dataset):\n",
    "    def __init__(self, transform = None):\n",
    "        # load dataset\n",
    "        self.data = datasets.load_wine()\n",
    "        self.X = self.data.data\n",
    "        self.y = self.data.target\n",
    "        self.n_samples = self.X.shape[0]\n",
    "        self.transform = transform\n",
    "        \n",
    "        print(f'type of X : {type(self.X)}')\n",
    "        print(f'type of y : {type(self.y)}')\n",
    "                \n",
    "    def __getitem__(self, index):\n",
    "        # get the row of the dataset accoding to the index\n",
    "        # dataset[0]\n",
    "        sample =  np.array(self.X[index]), np.array(self.y[index]) \n",
    "              \n",
    "\n",
    "        #check if transform exists, and apply the transformation\n",
    "        if self.transform:\n",
    "            sample = self.transform(sample)\n",
    "            \n",
    "        return sample\n",
    "        \n",
    "    def __len__(self):\n",
    "        # return the len of dataset\n",
    "        return self.n_samples\n",
    "    \n",
    "dataset = winedata()\n",
    "dataset.__getitem__(0)\n",
    "\n",
    "# out output is an array over here as we havent specified any transformations"
   ]
  },
  {
   "cell_type": "markdown",
   "metadata": {},
   "source": [
    "##### Create custom class for transforming the samples to tensors"
   ]
  },
  {
   "cell_type": "code",
   "execution_count": 122,
   "metadata": {},
   "outputs": [],
   "source": [
    "class To_Tensor:\n",
    "    def __call__(self, sample):\n",
    "        inputs, targets = sample\n",
    "        return torch.from_numpy(inputs), torch.from_numpy(targets)"
   ]
  },
  {
   "cell_type": "markdown",
   "metadata": {},
   "source": [
    "#### Check before/after applying the transform"
   ]
  },
  {
   "cell_type": "code",
   "execution_count": 125,
   "metadata": {},
   "outputs": [
    {
     "name": "stdout",
     "output_type": "stream",
     "text": [
      "type of X : <class 'numpy.ndarray'>\n",
      "type of y : <class 'numpy.ndarray'>\n",
      "[1.423e+01 1.710e+00 2.430e+00 1.560e+01 1.270e+02 2.800e+00 3.060e+00\n",
      " 2.800e-01 2.290e+00 5.640e+00 1.040e+00 3.920e+00 1.065e+03]\n",
      "<class 'numpy.ndarray'>\n"
     ]
    }
   ],
   "source": [
    "# before using transform we get the result as a np array\n",
    "\n",
    "dataset = winedata()\n",
    "print((dataset.__getitem__(0)[0]))\n",
    "print(type(dataset.__getitem__(0)[0]))"
   ]
  },
  {
   "cell_type": "code",
   "execution_count": 131,
   "metadata": {},
   "outputs": [
    {
     "name": "stdout",
     "output_type": "stream",
     "text": [
      "type of X : <class 'numpy.ndarray'>\n",
      "type of y : <class 'numpy.ndarray'>\n",
      "(tensor([1.4230e+01, 1.7100e+00, 2.4300e+00, 1.5600e+01, 1.2700e+02, 2.8000e+00,\n",
      "        3.0600e+00, 2.8000e-01, 2.2900e+00, 5.6400e+00, 1.0400e+00, 3.9200e+00,\n",
      "        1.0650e+03], dtype=torch.float64), tensor(0, dtype=torch.int32))\n",
      " \n",
      "Converted Datatype : <class 'torch.Tensor'>\n"
     ]
    }
   ],
   "source": [
    "# after applying the transform, we get the np array converted to tensor\n",
    "\n",
    "dataset2 = winedata(transform=To_Tensor())\n",
    "print(dataset2.__getitem__(0))\n",
    "print(f' \\nConverted Datatype : {type(dataset2.__getitem__(0)[0])}')"
   ]
  },
  {
   "cell_type": "markdown",
   "metadata": {},
   "source": [
    "##### Apply multiple transformations"
   ]
  },
  {
   "cell_type": "code",
   "execution_count": 32,
   "metadata": {},
   "outputs": [],
   "source": [
    "# you can also apply different kinds of transformations\n",
    "\n",
    "class MulTransform:\n",
    "    def __init__(self, factor):\n",
    "        self.factor = factor\n",
    "        \n",
    "    def __call__(self, sample):\n",
    "        inputs, target = sample\n",
    "        inputs *= self.factor\n",
    "        # multiply the feature by the factor    \n",
    "        return inputs, target\n",
    "\n",
    "class To_Tensor:\n",
    "    def __call__(self, sample):\n",
    "        inputs, targets = sample\n",
    "        return torch.from_numpy(inputs), torch.from_numpy(targets)\n",
    "    \n",
    "\n",
    "# Define dataset class\n",
    "class winedata(Dataset):\n",
    "    def __init__(self, transform = None):\n",
    "        # load dataset\n",
    "        self.data = datasets.load_wine()\n",
    "        self.X = self.data.data\n",
    "        self.y = self.data.target\n",
    "        self.n_samples = self.X.shape[0]\n",
    "        self.transform = transform\n",
    "        \n",
    "        print(f'type of X : {type(self.X)}')\n",
    "        print(f'type of y : {type(self.y)}')\n",
    "                \n",
    "    def __getitem__(self, index):\n",
    "        # get the row of the dataset accoding to the index\n",
    "        # dataset[0]\n",
    "        sample =  np.array(self.X[index]), np.array(self.y[index]) \n",
    "              \n",
    "\n",
    "        #check if transform exists, and apply the transformation\n",
    "        if self.transform:\n",
    "            sample = self.transform(sample)\n",
    "            \n",
    "        return sample\n",
    "        \n",
    "    def __len__(self):\n",
    "        # return the len of dataset\n",
    "        return self.n_samples\n",
    "    \n"
   ]
  },
  {
   "cell_type": "markdown",
   "metadata": {},
   "source": [
    "##### Create transform.compose method"
   ]
  },
  {
   "cell_type": "code",
   "execution_count": 34,
   "metadata": {},
   "outputs": [],
   "source": [
    "composed = torchvision.transforms.Compose([To_Tensor(), MulTransform(2)])"
   ]
  },
  {
   "cell_type": "markdown",
   "metadata": {},
   "source": [
    "##### Apply the transform.compose on the class dataset"
   ]
  },
  {
   "cell_type": "code",
   "execution_count": 35,
   "metadata": {},
   "outputs": [
    {
     "name": "stdout",
     "output_type": "stream",
     "text": [
      "**************************************** BRFORE ****************************************\n",
      "\n",
      "type of X : <class 'numpy.ndarray'>\n",
      "type of y : <class 'numpy.ndarray'>\n",
      "(array([1.423e+01, 1.710e+00, 2.430e+00, 1.560e+01, 1.270e+02, 2.800e+00,\n",
      "       3.060e+00, 2.800e-01, 2.290e+00, 5.640e+00, 1.040e+00, 3.920e+00,\n",
      "       1.065e+03]), array(0))\n",
      "**************************************** AFTER ****************************************\n",
      "\n",
      "type of X : <class 'numpy.ndarray'>\n",
      "type of y : <class 'numpy.ndarray'>\n",
      "(tensor([2.8460e+01, 3.4200e+00, 4.8600e+00, 3.1200e+01, 2.5400e+02, 5.6000e+00,\n",
      "        6.1200e+00, 5.6000e-01, 4.5800e+00, 1.1280e+01, 2.0800e+00, 7.8400e+00,\n",
      "        2.1300e+03], dtype=torch.float64), tensor(0, dtype=torch.int32))\n"
     ]
    },
    {
     "data": {
      "text/plain": [
       "torch.Tensor"
      ]
     },
     "execution_count": 35,
     "metadata": {},
     "output_type": "execute_result"
    }
   ],
   "source": [
    "## before\n",
    "print(f\"{'*' * 40} BRFORE {'*' * 40}\\n\")\n",
    "dataset = winedata()\n",
    "print(dataset.__getitem__(0))\n",
    "type(dataset.__getitem__(0)[0])\n",
    "\n",
    "## after\n",
    "print(f\"{'*' * 40} AFTER {'*' * 40}\\n\")\n",
    "dataset = winedata(transform=composed)\n",
    "print(dataset.__getitem__(0))\n",
    "type(dataset.__getitem__(0)[0])"
   ]
  },
  {
   "cell_type": "markdown",
   "metadata": {},
   "source": [
    "##### We can observe that the output is a tensor and it is multiplied by factor (2) passed in the mulTransform"
   ]
  }
 ],
 "metadata": {
  "kernelspec": {
   "display_name": "Python 3",
   "language": "python",
   "name": "python3"
  },
  "language_info": {
   "codemirror_mode": {
    "name": "ipython",
    "version": 3
   },
   "file_extension": ".py",
   "mimetype": "text/x-python",
   "name": "python",
   "nbconvert_exporter": "python",
   "pygments_lexer": "ipython3",
   "version": "3.11.9"
  }
 },
 "nbformat": 4,
 "nbformat_minor": 2
}
